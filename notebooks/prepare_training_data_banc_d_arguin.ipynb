{
  "nbformat": 4,
  "nbformat_minor": 0,
  "metadata": {
    "colab": {
      "name": "prepare_training_data_banc_d_arguin.ipynb",
      "provenance": [],
      "collapsed_sections": [],
      "machine_shape": "hm",
      "mount_file_id": "1aQPJmvmr5Nqc0zLl2T6N1Vm18ODobjbQ",
      "authorship_tag": "ABX9TyMkZpQzU1PC6n8ujZ508wRE",
      "include_colab_link": true
    },
    "kernelspec": {
      "name": "python3",
      "display_name": "Python 3"
    },
    "language_info": {
      "name": "python"
    }
  },
  "cells": [
    {
      "cell_type": "markdown",
      "metadata": {
        "id": "view-in-github",
        "colab_type": "text"
      },
      "source": [
        "<a href=\"https://colab.research.google.com/github/Max-FM/seagrass/blob/master/notebooks/prepare_training_data_banc_d_arguin.ipynb\" target=\"_parent\"><img src=\"https://colab.research.google.com/assets/colab-badge.svg\" alt=\"Open In Colab\"/></a>"
      ]
    },
    {
      "cell_type": "markdown",
      "metadata": {
        "id": "zVX56BOwgGQ6"
      },
      "source": [
        "#Preparing Banc d'Arguin imaging to create seagrass training data for machine learning"
      ]
    },
    {
      "cell_type": "markdown",
      "metadata": {
        "id": "4BH8QO97gFML"
      },
      "source": [
        "##Mount Google Drive"
      ]
    },
    {
      "cell_type": "code",
      "metadata": {
        "id": "AYFOnY_iwMFx"
      },
      "source": [
        "from google.colab import drive\n",
        "drive.mount('/content/drive')"
      ],
      "execution_count": null,
      "outputs": []
    },
    {
      "cell_type": "markdown",
      "metadata": {
        "id": "pnpkE0DOgYXF"
      },
      "source": [
        "##Install `seagrass` package"
      ]
    },
    {
      "cell_type": "code",
      "metadata": {
        "id": "cfQSWN_7nR4D"
      },
      "source": [
        "%%capture\n",
        "\n",
        "!pip install git+https://github.com/Max-FM/seagrass.git"
      ],
      "execution_count": null,
      "outputs": []
    },
    {
      "cell_type": "markdown",
      "metadata": {
        "id": "1bT3eEjoxOLC"
      },
      "source": [
        "##Create mosaic from Sentinel 2 images and import projected seagrass data"
      ]
    },
    {
      "cell_type": "code",
      "metadata": {
        "id": "JFKPw67YtSsY"
      },
      "source": [
        "from seagrass.raster import open_and_match_rasters"
      ],
      "execution_count": null,
      "outputs": []
    },
    {
      "cell_type": "code",
      "metadata": {
        "id": "RVNC93SazsIy"
      },
      "source": [
        "#  Scenes of interest are numbers 7, 8, 11, 12 & 13, particulary 11 and 12.\n",
        "scene_number = '000011'\n",
        "s2_filepath = f'/content/drive/MyDrive/Bathymetry/BancDarguin_s2cldmdn_{scene_number}.tif'\n",
        "seagrass_filepath = '/content/drive/Shareddrives/1_Satellite_Derived_Bathymetry & coastal veg/Banc dArguin bathymetry & seagrass/seagrass_geotiff/seagrass_combined.tif'"
      ],
      "execution_count": null,
      "outputs": []
    },
    {
      "cell_type": "code",
      "metadata": {
        "id": "s6SyPXbHzl0u"
      },
      "source": [
        "s2, seagrass = open_and_match_rasters(s2_filepath, seagrass_filepath)"
      ],
      "execution_count": null,
      "outputs": []
    },
    {
      "cell_type": "markdown",
      "metadata": {
        "id": "9CsdwjFnwrjy"
      },
      "source": [
        "##Mask out land pixels"
      ]
    },
    {
      "cell_type": "code",
      "metadata": {
        "id": "sMApbg5ng84N"
      },
      "source": [
        "#  Normalised Difference Water Index (NDWI)\n",
        "def ndwi(s2):\n",
        "    green = s2[4]\n",
        "    nir = s2[9]\n",
        "    return (green - nir) / (green + nir)\n",
        "\n",
        "#  Creates a land pixel mask using the NDWI as a threshold.\n",
        "def land_mask(s2):\n",
        "    return ndwi(s2).values < 0    "
      ],
      "execution_count": null,
      "outputs": []
    },
    {
      "cell_type": "code",
      "metadata": {
        "id": "fqti9nkCixKZ"
      },
      "source": [
        "seagrass = seagrass.where(land_mask(s2)==False, -9999)"
      ],
      "execution_count": null,
      "outputs": []
    },
    {
      "cell_type": "markdown",
      "metadata": {
        "id": "3Wrd9iJAyWxT"
      },
      "source": [
        "##Plot mosaic and seagrass images"
      ]
    },
    {
      "cell_type": "code",
      "metadata": {
        "id": "9Uf0aKBLtLXX"
      },
      "source": [
        "%matplotlib inline\n",
        "import matplotlib.pyplot as plt\n",
        "from rasterio.plot import show\n",
        "import numpy as np"
      ],
      "execution_count": null,
      "outputs": []
    },
    {
      "cell_type": "code",
      "metadata": {
        "id": "nZkJzw8ctuFr"
      },
      "source": [
        "def normalize(array):\n",
        "    \"\"\"Normalizes numpy arrays into scale 0.0 - 1.0\"\"\"\n",
        "    array_min, array_max = array.min(), array.max()\n",
        "    return ((array - array_min)/(array_max - array_min))\n",
        "\n",
        "def make_composite(band_1, band_2, band_3):\n",
        "    \"\"\"Converts three raster bands into a composite image\"\"\"\n",
        "    return normalize(np.dstack((band_1, band_2, band_3)))\n",
        "\n",
        "def make_s2_rgb(s2_raster):\n",
        "    red = s2_raster[5]\n",
        "    green = s2_raster[4]\n",
        "    blue = s2_raster[3]\n",
        "\n",
        "    return make_composite(red, green, blue)"
      ],
      "execution_count": null,
      "outputs": []
    },
    {
      "cell_type": "code",
      "metadata": {
        "id": "eeAzRnH4jyOi"
      },
      "source": [
        "rgb = make_s2_rgb(s2)"
      ],
      "execution_count": null,
      "outputs": []
    },
    {
      "cell_type": "code",
      "metadata": {
        "id": "TPQdvZyRq8pG"
      },
      "source": [
        "plt.figure(figsize=(15,15))\n",
        "plt.imshow(rgb)\n",
        "\n",
        "rgb.shape"
      ],
      "execution_count": null,
      "outputs": []
    },
    {
      "cell_type": "code",
      "metadata": {
        "id": "FIarHf19yaeB"
      },
      "source": [
        "plt.figure(figsize=(15,15))\n",
        "show(seagrass.where(seagrass!=-9999))"
      ],
      "execution_count": null,
      "outputs": []
    },
    {
      "cell_type": "markdown",
      "metadata": {
        "id": "v5KKiWoUydtZ"
      },
      "source": [
        "##Define features and targets for machine learning"
      ]
    },
    {
      "cell_type": "code",
      "metadata": {
        "id": "Pm5jeoOUoA_Y"
      },
      "source": [
        "from seagrass.prepare import create_training_data\n",
        "from seagrass.utils import save_training_data"
      ],
      "execution_count": null,
      "outputs": []
    },
    {
      "cell_type": "code",
      "metadata": {
        "id": "051221lLtLXs"
      },
      "source": [
        "%%time\n",
        "\n",
        "X, y = create_training_data(s2.values, seagrass.values, no_data_value=-9999, s2_bands=[3,4,5,6,7,8,9])"
      ],
      "execution_count": null,
      "outputs": []
    },
    {
      "cell_type": "code",
      "metadata": {
        "id": "qu7Ubw8qzssj"
      },
      "source": [
        "display(X, y)\n",
        "display(X.shape, y.shape)"
      ],
      "execution_count": null,
      "outputs": []
    },
    {
      "cell_type": "markdown",
      "metadata": {
        "id": "ukQkG1v0hhpP"
      },
      "source": [
        "##Save training data to Modulos compatible tar file"
      ]
    },
    {
      "cell_type": "code",
      "metadata": {
        "id": "ha890x3TTGtg"
      },
      "source": [
        "training_dir = '/content/drive/Shareddrives/1_Satellite_Derived_Bathymetry & coastal veg/Banc dArguin bathymetry & seagrass/seagrass_training_data'\n",
        "# training_dir = '.'\n",
        "\n",
        "# Optional column header labels.\n",
        "cols = ['b', 'g', 'r', 're1', 're2', 're3', 'nir', 'b_g', 'g_g', 'r_g', 're1_g', 're2_g', 're3_g', 'nir_g', 'seagrass']"
      ],
      "execution_count": null,
      "outputs": []
    },
    {
      "cell_type": "code",
      "metadata": {
        "id": "eet0Wtnbz7js"
      },
      "source": [
        "from datetime import date\n",
        "\n",
        "timestamp = str(date.today())\n",
        "train_filepath = f'{training_dir}/banc_d_arguin_seagrass_train_{scene_number}_{timestamp}.tar'\n",
        "\n",
        "train_filepath"
      ],
      "execution_count": null,
      "outputs": []
    },
    {
      "cell_type": "code",
      "metadata": {
        "id": "HSf1pm3Ugo3N"
      },
      "source": [
        "save_training_data(train_filepath, X, y, column_labels=cols)"
      ],
      "execution_count": null,
      "outputs": []
    }
  ]
}