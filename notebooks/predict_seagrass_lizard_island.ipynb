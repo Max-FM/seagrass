{
  "nbformat": 4,
  "nbformat_minor": 0,
  "metadata": {
    "colab": {
      "name": "predict_seagrass_lizard_island.ipynb",
      "provenance": [],
      "collapsed_sections": [],
      "mount_file_id": "1oRXpJlbzI-gsMtk_LPTGaMuYZp2e8jgI",
      "authorship_tag": "ABX9TyMRBItTLIHJRGgR0R95ES/V",
      "include_colab_link": true
    },
    "kernelspec": {
      "name": "python3",
      "display_name": "Python 3"
    },
    "language_info": {
      "name": "python"
    }
  },
  "cells": [
    {
      "cell_type": "markdown",
      "metadata": {
        "id": "view-in-github",
        "colab_type": "text"
      },
      "source": [
        "<a href=\"https://colab.research.google.com/github/Max-FM/seagrass/blob/master/notebooks/predict_seagrass_lizard_island.ipynb\" target=\"_parent\"><img src=\"https://colab.research.google.com/assets/colab-badge.svg\" alt=\"Open In Colab\"/></a>"
      ]
    },
    {
      "cell_type": "markdown",
      "metadata": {
        "id": "zVX56BOwgGQ6"
      },
      "source": [
        "# Predicting Lizard Island Seagrass using Banq d'Arguin trained machine learning model"
      ]
    },
    {
      "cell_type": "markdown",
      "metadata": {
        "id": "5q-F24yv5_I8"
      },
      "source": [
        "Note: If you are evaluating multiple machine learning models in a single session you'll need to restart the runtime between each run."
      ]
    },
    {
      "cell_type": "markdown",
      "metadata": {
        "id": "MhjdDJ8d1BOy"
      },
      "source": [
        "## Preparing prediction data"
      ]
    },
    {
      "cell_type": "markdown",
      "metadata": {
        "id": "4BH8QO97gFML"
      },
      "source": [
        "### Mount Google Drive"
      ]
    },
    {
      "cell_type": "code",
      "metadata": {
        "id": "AYFOnY_iwMFx"
      },
      "source": [
        "from google.colab import drive\n",
        "drive.mount('/content/drive')"
      ],
      "execution_count": null,
      "outputs": []
    },
    {
      "cell_type": "markdown",
      "metadata": {
        "id": "pnpkE0DOgYXF"
      },
      "source": [
        "### Install `seagrass` package"
      ]
    },
    {
      "cell_type": "code",
      "metadata": {
        "id": "cfQSWN_7nR4D"
      },
      "source": [
        "%%capture\n",
        "\n",
        "!pip install \"seagrass[modulos] @ git+https://github.com/Max-FM/seagrass.git@feature/unit_tests\""
      ],
      "execution_count": null,
      "outputs": []
    },
    {
      "cell_type": "markdown",
      "metadata": {
        "id": "gd-bGBVUgoCL"
      },
      "source": [
        "### Open Sentinel 2 and bathymetry GeoTIFFs"
      ]
    },
    {
      "cell_type": "code",
      "metadata": {
        "id": "9Uf0aKBLtLXX"
      },
      "source": [
        "from seagrass.raster import open_sentinel2_image"
      ],
      "execution_count": null,
      "outputs": []
    },
    {
      "cell_type": "code",
      "metadata": {
        "id": "raXgDqActLXh"
      },
      "source": [
        "s2_filepath = '/content/drive/MyDrive/Bathymetry/LizardIsland_s2cldmdn.tif'\n",
        "s2 = open_sentinel2_image(s2_filepath)"
      ],
      "execution_count": null,
      "outputs": []
    },
    {
      "cell_type": "markdown",
      "metadata": {
        "id": "MFV-Sh-ShNvK"
      },
      "source": [
        "### Plot Sentinel 2 image"
      ]
    },
    {
      "cell_type": "code",
      "metadata": {
        "id": "6xAnFs_gahys"
      },
      "source": [
        "%matplotlib inline\n",
        "import numpy as np\n",
        "import matplotlib.pyplot as plt\n",
        "from rasterio.plot import show"
      ],
      "execution_count": null,
      "outputs": []
    },
    {
      "cell_type": "code",
      "metadata": {
        "id": "bWcmn0elW9Li"
      },
      "source": [
        "def normalize(array):\n",
        "    \"\"\"Normalizes numpy arrays into scale 0.0 - 1.0\"\"\"\n",
        "    array_min, array_max = array.min(), array.max()\n",
        "    return ((array - array_min)/(array_max - array_min))\n",
        "\n",
        "def make_composite(band_1, band_2, band_3):\n",
        "    \"\"\"Converts three raster bands into a composite image\"\"\"\n",
        "    return normalize(np.dstack((band_1, band_2, band_3)))\n",
        "\n",
        "def make_s2_rgb(s2_raster):\n",
        "    red_deglint = s2_raster[2]\n",
        "    green_deglint = s2_raster[1]\n",
        "    blue_deglint = s2_raster[0]\n",
        "\n",
        "    return make_composite(red_deglint, green_deglint, blue_deglint)"
      ],
      "execution_count": null,
      "outputs": []
    },
    {
      "cell_type": "code",
      "metadata": {
        "id": "TPQdvZyRq8pG"
      },
      "source": [
        "rgb = make_s2_rgb(s2)\n",
        "\n",
        "plt.figure(figsize=(15,15))\n",
        "plt.imshow(rgb)\n",
        "\n",
        "\n",
        "rgb.shape"
      ],
      "execution_count": null,
      "outputs": []
    },
    {
      "cell_type": "markdown",
      "metadata": {
        "id": "D4_U3r1jhZ6m"
      },
      "source": [
        "### Create prediction features"
      ]
    },
    {
      "cell_type": "code",
      "metadata": {
        "id": "sf2NAiUwZVZo"
      },
      "source": [
        "from seagrass.prepare import return_features\n",
        "from seagrass.utils import save_prediction_features"
      ],
      "execution_count": null,
      "outputs": []
    },
    {
      "cell_type": "code",
      "metadata": {
        "id": "051221lLtLXs"
      },
      "source": [
        "%%time\n",
        "\n",
        "# prediction_features = return_features(s2.values, bands=[3,4,5,6,7,8,9])\n",
        "prediction_features = return_features(s2.values, bands=[3,4,5,9])"
      ],
      "execution_count": null,
      "outputs": []
    },
    {
      "cell_type": "code",
      "metadata": {
        "id": "mxOetGZIaFcb"
      },
      "source": [
        "display(prediction_features.shape, prediction_features)"
      ],
      "execution_count": null,
      "outputs": []
    },
    {
      "cell_type": "markdown",
      "metadata": {
        "id": "eoEexjvGvW6e"
      },
      "source": [
        "### Save to Modulos compatible tar file"
      ]
    },
    {
      "cell_type": "code",
      "metadata": {
        "id": "JqP_IzXh0yuG"
      },
      "source": [
        "from os.path import exists"
      ],
      "execution_count": null,
      "outputs": []
    },
    {
      "cell_type": "code",
      "metadata": {
        "id": "HSf1pm3Ugo3N"
      },
      "source": [
        "# cols = ['b', 'g', 'r', 're1', 're2', 're3', 'nir']\n",
        "cols = ['b', 'g', 'r', 'nir']\n",
        "\n",
        "\n",
        "prediction_tar_filepath ='/content/seagrass_prediction.tar'\n",
        "\n",
        "if not exists(prediction_tar_filepath):\n",
        "    save_prediction_features(prediction_tar_filepath, prediction_features, column_labels=cols)"
      ],
      "execution_count": null,
      "outputs": []
    },
    {
      "cell_type": "markdown",
      "metadata": {
        "id": "pbzVlVhYd5na"
      },
      "source": [
        "## Generate predictions with Modulos Auto ML"
      ]
    },
    {
      "cell_type": "markdown",
      "metadata": {
        "id": "FAtoi83MeCmj"
      },
      "source": [
        "### Copy over ML model"
      ]
    },
    {
      "cell_type": "code",
      "metadata": {
        "id": "fDHGJKvvoZqR"
      },
      "source": [
        "models_dir = '/content/drive/Shareddrives/1_Satellite_Derived_Bathymetry & coastal veg/Banc dArguin bathymetry & seagrass/seagrass_ml_models'\n",
        "\n",
        "# image_id = '000012'\n",
        "# timestamp = '23-07-2021'\n",
        "\n",
        "# model_id = '702ffbf9fce54ed0a6975a3bf4aef201'\n",
        "# model_id = '5634a3781d7a4534a52d8c751f13ae71'\n",
        "# model_id = 'b371174dfd2d45638de13376c3d05b9e'\n",
        "\n",
        "image_id = '000011'\n",
        "# timestamp = '28-07-2021'\n",
        "\n",
        "# model_id = '01a19ee91fe945ec97b53bd58e02b909'\n",
        "\n",
        "timestamp = '2021-08-05'\n",
        "# model_id = '44b6b458bfeb47afa7a2ca203ef077aa'\n",
        "# model_id = 'e81e16008f6e4fdcae387a365dd6e2bc'\n",
        "# model_id = '6742bb4cb1754aee887acb2ee1c13a5c'\n",
        "model_id = '4b8063a950134e52bdd991bb0226dd18'\n",
        "\n",
        "tar_filepath = f'{models_dir}/{image_id}_{timestamp}/{model_id}.tar'\n",
        "\n",
        "tar_filepath"
      ],
      "execution_count": null,
      "outputs": []
    },
    {
      "cell_type": "code",
      "metadata": {
        "id": "cRQVNRhAhVdr"
      },
      "source": [
        "!tar -xf \"{tar_filepath}\" -C \"/content\""
      ],
      "execution_count": null,
      "outputs": []
    },
    {
      "cell_type": "markdown",
      "metadata": {
        "id": "T66erWi4zJcT"
      },
      "source": [
        "### Change directory to model folder"
      ]
    },
    {
      "cell_type": "code",
      "metadata": {
        "id": "xH0LKX7FwP5t"
      },
      "source": [
        "%cd \"/content/{model_id}\""
      ],
      "execution_count": null,
      "outputs": []
    },
    {
      "cell_type": "markdown",
      "metadata": {
        "id": "EAfaVYFdrRSH"
      },
      "source": [
        "### Display solution info"
      ]
    },
    {
      "cell_type": "code",
      "metadata": {
        "id": "uKnmQTQ_qzSy"
      },
      "source": [
        "from IPython.display import HTML\n",
        "HTML(filename=f'README.html')"
      ],
      "execution_count": null,
      "outputs": []
    },
    {
      "cell_type": "markdown",
      "metadata": {
        "id": "TIsN8hnlNFOh"
      },
      "source": [
        "### Making predictions using trained Modulos ML model"
      ]
    },
    {
      "cell_type": "code",
      "metadata": {
        "id": "Pz_YEE9UNFOi"
      },
      "source": [
        "import batch_client as bc \n",
        "import os\n",
        "import shutil"
      ],
      "execution_count": null,
      "outputs": []
    },
    {
      "cell_type": "markdown",
      "metadata": {
        "id": "hH7Dj0F4NFOj"
      },
      "source": [
        "### Set path variables"
      ]
    },
    {
      "cell_type": "markdown",
      "metadata": {
        "id": "xFuADDulNFOj"
      },
      "source": [
        "* **path_to_tar:** Path to the tar file. The tar file has to contain the same data and has to be packed in the same way as the dataset that was uploaded to Modulos.\n",
        "* **path_to_tmp:** Path to temporary data folder."
      ]
    },
    {
      "cell_type": "code",
      "metadata": {
        "id": "8O50V7KgNFOk"
      },
      "source": [
        "path_to_tar = \"/content/seagrass_prediction.tar\"\n",
        "path_to_tmp = os.path.join(bc.DEFAULT_OUTPUT_DIR,\"tmp_data_dir\")"
      ],
      "execution_count": null,
      "outputs": []
    },
    {
      "cell_type": "markdown",
      "metadata": {
        "id": "_ZAHWH9qNFOk"
      },
      "source": [
        "### Run the batch client "
      ]
    },
    {
      "cell_type": "markdown",
      "metadata": {
        "id": "WrIBOGmrNFOk"
      },
      "source": [
        "Remove temporary files from previous run:"
      ]
    },
    {
      "cell_type": "code",
      "metadata": {
        "id": "9I6DuAFaNFOk"
      },
      "source": [
        "if os.path.exists(path_to_tmp):\n",
        "    shutil.rmtree(path_to_tmp)"
      ],
      "execution_count": null,
      "outputs": []
    },
    {
      "cell_type": "markdown",
      "metadata": {
        "id": "xDcOmOsUNFOl"
      },
      "source": [
        "The batch client takes a `.tar` file as input and outputs predictions in same format as training labels have been. It does so by performing the following steps:\n",
        "* Creating a temporary directory to save and store intermediate calculations.\n",
        "* Converting the `.tar` data set into an internal format (HDF5 file). Saved in `path_to_hdf5_data`\n",
        "* Running the feature extractor on the data.\n",
        "* Running the model to get predictions.\n",
        "* Saving the predictions into the same format as training labels have been when training on the platform."
      ]
    },
    {
      "cell_type": "code",
      "metadata": {
        "id": "NwYyoXXcNFOl"
      },
      "source": [
        "%%time\n",
        "\n",
        "bc.main(\n",
        "    dataset_path=path_to_tar, \n",
        "    output_dir_user=\"\", \n",
        "    verbose=True,\n",
        "    keep_tmp=True\n",
        ")"
      ],
      "execution_count": null,
      "outputs": []
    },
    {
      "cell_type": "markdown",
      "metadata": {
        "id": "80EiZ3MXNFOm"
      },
      "source": [
        "### Look at the predictions"
      ]
    },
    {
      "cell_type": "code",
      "metadata": {
        "id": "2Ky-j7b_NFOn"
      },
      "source": [
        "from modulos_utils.solution_utils import jupyter_utils as ju\n",
        "\n",
        "displayer = ju.JupyterDisplayer.construct(base_dir=bc.FILE_DIR)\n",
        "HTML(displayer.show())"
      ],
      "execution_count": null,
      "outputs": []
    },
    {
      "cell_type": "markdown",
      "metadata": {
        "id": "e5xZB1zkfP2X"
      },
      "source": [
        "### Convert predictions to raster image"
      ]
    },
    {
      "cell_type": "code",
      "metadata": {
        "id": "GeYseUejfV6g"
      },
      "source": [
        "import pandas as pd\n",
        "\n",
        "df = pd.read_csv(f'/content/{model_id}/output_batch_client/predictions/predictions.csv')\n",
        "\n",
        "predictions = df['predictions'].values.reshape(s2.shape[1], s2.shape[2])"
      ],
      "execution_count": null,
      "outputs": []
    },
    {
      "cell_type": "code",
      "metadata": {
        "id": "sMApbg5ng84N"
      },
      "source": [
        "#  Normalised Difference Water Index (NDWI)\n",
        "def ndwi(s2):\n",
        "    green = s2[4]\n",
        "    nir = s2[9]\n",
        "    return (green - nir) / (green + nir)\n",
        "\n",
        "#  Creates a land pixel mask using the NDWI as a threshold.\n",
        "def land_mask(s2):\n",
        "    return ndwi(s2).values < -0.1 "
      ],
      "execution_count": null,
      "outputs": []
    },
    {
      "cell_type": "code",
      "metadata": {
        "id": "fqti9nkCixKZ"
      },
      "source": [
        "predictions[land_mask(s2)] = 0\n",
        "rgb[land_mask(s2)] = 0"
      ],
      "execution_count": null,
      "outputs": []
    },
    {
      "cell_type": "code",
      "metadata": {
        "id": "d3493vyNfR7-"
      },
      "source": [
        "def make_seagrass_map(predictions):\n",
        "    zeros = np.zeros([s2.shape[1], s2.shape[2], 1])\n",
        "    return np.dstack([predictions, predictions, zeros])"
      ],
      "execution_count": null,
      "outputs": []
    },
    {
      "cell_type": "code",
      "metadata": {
        "id": "MdGGtGxfkQRd"
      },
      "source": [
        "plt.figure(figsize=(15,15))\n",
        "plt.imshow(rgb)\n",
        "plt.figure(figsize=(15,15))\n",
        "plt.imshow(predictions)\n",
        "plt.figure(figsize=(15,15))\n",
        "plt.imshow(rgb + make_seagrass_map(predictions))\n"
      ],
      "execution_count": null,
      "outputs": []
    },
    {
      "cell_type": "code",
      "metadata": {
        "id": "awmQt9874B7R"
      },
      "source": [
        "import rasterio"
      ],
      "execution_count": null,
      "outputs": []
    },
    {
      "cell_type": "code",
      "metadata": {
        "id": "YSM5t1DQa1uV"
      },
      "source": [
        "def save_predictions_tiff(filepath, predictions, sentinel2_crs, sentinel2_transform):\n",
        "    with rasterio.open(\n",
        "        filepath,\n",
        "        'w',\n",
        "        driver='GTiff',\n",
        "        height=predictions.shape[0],\n",
        "        width=predictions.shape[1],\n",
        "        count=1,\n",
        "        dtype=predictions.dtype,\n",
        "        crs=sentinel2_crs,\n",
        "        transform=sentinel2_transform,\n",
        "    ) as output_raster:\n",
        "        output_raster.write(predictions, 1)"
      ],
      "execution_count": null,
      "outputs": []
    },
    {
      "cell_type": "code",
      "metadata": {
        "id": "PykQozLb2NYF"
      },
      "source": [
        "prediction_tif_dir = f'/content/drive/Shareddrives/1_Satellite_Derived_Bathymetry & coastal veg/Lizard Island bathymetry & seagrass/seagrass_predictions/banc_d_arguin_train/{image_id}_{timestamp}'\n",
        "# prediction_tif_dir = '/content'"
      ],
      "execution_count": null,
      "outputs": []
    },
    {
      "cell_type": "code",
      "metadata": {
        "id": "vkMMwwnv2N2L"
      },
      "source": [
        "%mkdir \"{prediction_tif_dir}\""
      ],
      "execution_count": null,
      "outputs": []
    },
    {
      "cell_type": "code",
      "metadata": {
        "id": "va_AF7dQkWYy"
      },
      "source": [
        "filepath = f'{prediction_tif_dir}/lizard_island_seagrass_prediction_{model_id}.tif'\n",
        "\n",
        "filepath"
      ],
      "execution_count": null,
      "outputs": []
    },
    {
      "cell_type": "code",
      "metadata": {
        "id": "DfQ2bTtvesr6"
      },
      "source": [
        "# save_predictions_tiff(filepath, predictions, s2.rio.crs, s2.rio.transform())"
      ],
      "execution_count": null,
      "outputs": []
    }
  ]
}